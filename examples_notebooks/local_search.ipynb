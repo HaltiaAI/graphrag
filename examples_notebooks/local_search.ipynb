{
 "cells": [
  {
   "cell_type": "code",
   "execution_count": null,
   "metadata": {},
   "outputs": [],
   "source": [
    "# Copyright (c) 2024 Microsoft Corporation.\n",
    "# Licensed under the MIT License."
   ]
  },
  {
   "cell_type": "code",
   "metadata": {
    "ExecuteTime": {
     "end_time": "2024-07-25T14:42:13.755872Z",
     "start_time": "2024-07-25T14:42:13.749516Z"
    }
   },
   "source": [
    "import os\n",
    "\n",
    "import pandas as pd\n",
    "import tiktoken\n",
    "\n",
    "from graphrag.query.context_builder.entity_extraction import EntityVectorStoreKey\n",
    "from graphrag.query.indexer_adapters import (\n",
    "    read_indexer_covariates,\n",
    "    read_indexer_entities,\n",
    "    read_indexer_relationships,\n",
    "    read_indexer_reports,\n",
    "    read_indexer_text_units,\n",
    ")\n",
    "from graphrag.query.input.loaders.dfs import (\n",
    "    store_entity_semantic_embeddings,\n",
    ")\n",
    "from graphrag.query.llm.oai.chat_openai import ChatOpenAI\n",
    "from graphrag.query.llm.oai.embedding import OpenAIEmbedding\n",
    "from graphrag.query.llm.oai.typing import OpenaiApiType\n",
    "from graphrag.query.question_gen.local_gen import LocalQuestionGen\n",
    "from graphrag.query.structured_search.local_search.mixed_context import (\n",
    "    LocalSearchMixedContext,\n",
    ")\n",
    "from graphrag.query.structured_search.local_search.search import LocalSearch\n",
    "from graphrag.vector_stores.lancedb import LanceDBVectorStore"
   ],
   "outputs": [],
   "execution_count": 2
  },
  {
   "cell_type": "markdown",
   "metadata": {},
   "source": [
    "## Local Search Example\n",
    "\n",
    "Local search method generates answers by combining relevant data from the AI-extracted knowledge-graph with text chunks of the raw documents. This method is suitable for questions that require an understanding of specific entities mentioned in the documents (e.g. What are the healing properties of chamomile?)."
   ]
  },
  {
   "cell_type": "markdown",
   "metadata": {},
   "source": [
    "### Load text units and graph data tables as context for local search\n",
    "\n",
    "- In this test we first load indexing outputs from parquet files to dataframes, then convert these dataframes into collections of data objects aligning with the knowledge model."
   ]
  },
  {
   "cell_type": "markdown",
   "metadata": {},
   "source": [
    "### Load tables to dataframes"
   ]
  },
  {
   "cell_type": "code",
   "metadata": {
    "ExecuteTime": {
     "end_time": "2024-07-25T14:46:34.262901Z",
     "start_time": "2024-07-25T14:46:34.255467Z"
    }
   },
   "source": [
    "INPUT_DIR = \"/home/eduard/code/graphrag/examples_notebooks/inputs/operation dulce\"\n",
    "LANCEDB_URI = f\"{INPUT_DIR}/lancedb\"\n",
    "\n",
    "COMMUNITY_REPORT_TABLE = \"create_final_community_reports\"\n",
    "ENTITY_TABLE = \"create_final_nodes\"\n",
    "ENTITY_EMBEDDING_TABLE = \"create_final_entities\"\n",
    "RELATIONSHIP_TABLE = \"create_final_relationships\"\n",
    "COVARIATE_TABLE = \"create_final_covariates\"\n",
    "TEXT_UNIT_TABLE = \"create_final_text_units\"\n",
    "COMMUNITY_LEVEL = 2"
   ],
   "outputs": [],
   "execution_count": 6
  },
  {
   "cell_type": "markdown",
   "metadata": {},
   "source": [
    "#### Read entities"
   ]
  },
  {
   "cell_type": "code",
   "metadata": {
    "ExecuteTime": {
     "end_time": "2024-07-25T14:46:43.752668Z",
     "start_time": "2024-07-25T14:46:43.340576Z"
    }
   },
   "source": [
    "# read nodes table to get community and degree data\n",
    "entity_df = pd.read_parquet(f\"{INPUT_DIR}/{ENTITY_TABLE}.parquet\")\n",
    "entity_embedding_df = pd.read_parquet(f\"{INPUT_DIR}/{ENTITY_EMBEDDING_TABLE}.parquet\")\n",
    "\n",
    "entities = read_indexer_entities(entity_df, entity_embedding_df, COMMUNITY_LEVEL)\n",
    "\n",
    "# load description embeddings to an in-memory lancedb vectorstore\n",
    "# to connect to a remote db, specify url and port values.\n",
    "description_embedding_store = LanceDBVectorStore(\n",
    "    collection_name=\"entity_description_embeddings\",\n",
    ")\n",
    "description_embedding_store.connect(db_uri=LANCEDB_URI)\n",
    "entity_description_embeddings = store_entity_semantic_embeddings(\n",
    "    entities=entities, vectorstore=description_embedding_store\n",
    ")\n",
    "\n",
    "print(f\"Entity count: {len(entity_df)}\")\n",
    "entity_df.head()"
   ],
   "outputs": [
    {
     "name": "stderr",
     "output_type": "stream",
     "text": [
      "[2024-07-25T14:46:43Z WARN  lance::dataset] No existing dataset at /home/eduard/code/graphrag/examples_notebooks/inputs/operation dulce/lancedb/entity_description_embeddings.lance, it will be created\n"
     ]
    },
    {
     "name": "stdout",
     "output_type": "stream",
     "text": [
      "Entity count: 434\n"
     ]
    },
    {
     "data": {
      "text/plain": [
       "   level                      title          type  \\\n",
       "0      0                ALEX MERCER        PERSON   \n",
       "1      0                TAYLOR CRUZ        PERSON   \n",
       "2      0               JORDAN HAYES        PERSON   \n",
       "3      0                 SAM RIVERA        PERSON   \n",
       "4      0  PARANORMAL MILITARY SQUAD  ORGANIZATION   \n",
       "\n",
       "                                         description  \\\n",
       "0  Alex Mercer is a character with a military bac...   \n",
       "1  Taylor Cruz is a character who plays a pivotal...   \n",
       "2  Dr. Jordan Hayes is a key character in a narra...   \n",
       "3  Sam Rivera is a character renowned for their t...   \n",
       "4  The Paranormal Military Squad is an elite clan...   \n",
       "\n",
       "                                           source_id community  degree  \\\n",
       "0  00fafabae48948779fee2afe600f5143,1e433d6b30887...         1       9   \n",
       "1  00fafabae48948779fee2afe600f5143,1e433d6b30887...         1      12   \n",
       "2  00fafabae48948779fee2afe600f5143,2cf7a230c367a...         1       9   \n",
       "3  00fafabae48948779fee2afe600f5143,1e433d6b30887...         1      15   \n",
       "4  00fafabae48948779fee2afe600f5143,1e433d6b30887...         1      14   \n",
       "\n",
       "   human_readable_id                                id  size graph_embedding  \\\n",
       "0                  0  b45241d70f0e43fca764df95b2b81f77     9            None   \n",
       "1                  1  4119fd06010c494caa07f439b333f4c5    12            None   \n",
       "2                  2  d3835bf3dda84ead99deadbeac5d0d7d     9            None   \n",
       "3                  3  077d2820ae1845bcbb1803379a3d1eae    15            None   \n",
       "4                  4  3671ea0dd4e84c1a9b02c5ab2c8f4bac    14            None   \n",
       "\n",
       "  entity_type                 top_level_node_id  x  y  \n",
       "0        None  b45241d70f0e43fca764df95b2b81f77  0  0  \n",
       "1        None  4119fd06010c494caa07f439b333f4c5  0  0  \n",
       "2        None  d3835bf3dda84ead99deadbeac5d0d7d  0  0  \n",
       "3        None  077d2820ae1845bcbb1803379a3d1eae  0  0  \n",
       "4        None  3671ea0dd4e84c1a9b02c5ab2c8f4bac  0  0  "
      ],
      "text/html": [
       "<div>\n",
       "<style scoped>\n",
       "    .dataframe tbody tr th:only-of-type {\n",
       "        vertical-align: middle;\n",
       "    }\n",
       "\n",
       "    .dataframe tbody tr th {\n",
       "        vertical-align: top;\n",
       "    }\n",
       "\n",
       "    .dataframe thead th {\n",
       "        text-align: right;\n",
       "    }\n",
       "</style>\n",
       "<table border=\"1\" class=\"dataframe\">\n",
       "  <thead>\n",
       "    <tr style=\"text-align: right;\">\n",
       "      <th></th>\n",
       "      <th>level</th>\n",
       "      <th>title</th>\n",
       "      <th>type</th>\n",
       "      <th>description</th>\n",
       "      <th>source_id</th>\n",
       "      <th>community</th>\n",
       "      <th>degree</th>\n",
       "      <th>human_readable_id</th>\n",
       "      <th>id</th>\n",
       "      <th>size</th>\n",
       "      <th>graph_embedding</th>\n",
       "      <th>entity_type</th>\n",
       "      <th>top_level_node_id</th>\n",
       "      <th>x</th>\n",
       "      <th>y</th>\n",
       "    </tr>\n",
       "  </thead>\n",
       "  <tbody>\n",
       "    <tr>\n",
       "      <th>0</th>\n",
       "      <td>0</td>\n",
       "      <td>ALEX MERCER</td>\n",
       "      <td>PERSON</td>\n",
       "      <td>Alex Mercer is a character with a military bac...</td>\n",
       "      <td>00fafabae48948779fee2afe600f5143,1e433d6b30887...</td>\n",
       "      <td>1</td>\n",
       "      <td>9</td>\n",
       "      <td>0</td>\n",
       "      <td>b45241d70f0e43fca764df95b2b81f77</td>\n",
       "      <td>9</td>\n",
       "      <td>None</td>\n",
       "      <td>None</td>\n",
       "      <td>b45241d70f0e43fca764df95b2b81f77</td>\n",
       "      <td>0</td>\n",
       "      <td>0</td>\n",
       "    </tr>\n",
       "    <tr>\n",
       "      <th>1</th>\n",
       "      <td>0</td>\n",
       "      <td>TAYLOR CRUZ</td>\n",
       "      <td>PERSON</td>\n",
       "      <td>Taylor Cruz is a character who plays a pivotal...</td>\n",
       "      <td>00fafabae48948779fee2afe600f5143,1e433d6b30887...</td>\n",
       "      <td>1</td>\n",
       "      <td>12</td>\n",
       "      <td>1</td>\n",
       "      <td>4119fd06010c494caa07f439b333f4c5</td>\n",
       "      <td>12</td>\n",
       "      <td>None</td>\n",
       "      <td>None</td>\n",
       "      <td>4119fd06010c494caa07f439b333f4c5</td>\n",
       "      <td>0</td>\n",
       "      <td>0</td>\n",
       "    </tr>\n",
       "    <tr>\n",
       "      <th>2</th>\n",
       "      <td>0</td>\n",
       "      <td>JORDAN HAYES</td>\n",
       "      <td>PERSON</td>\n",
       "      <td>Dr. Jordan Hayes is a key character in a narra...</td>\n",
       "      <td>00fafabae48948779fee2afe600f5143,2cf7a230c367a...</td>\n",
       "      <td>1</td>\n",
       "      <td>9</td>\n",
       "      <td>2</td>\n",
       "      <td>d3835bf3dda84ead99deadbeac5d0d7d</td>\n",
       "      <td>9</td>\n",
       "      <td>None</td>\n",
       "      <td>None</td>\n",
       "      <td>d3835bf3dda84ead99deadbeac5d0d7d</td>\n",
       "      <td>0</td>\n",
       "      <td>0</td>\n",
       "    </tr>\n",
       "    <tr>\n",
       "      <th>3</th>\n",
       "      <td>0</td>\n",
       "      <td>SAM RIVERA</td>\n",
       "      <td>PERSON</td>\n",
       "      <td>Sam Rivera is a character renowned for their t...</td>\n",
       "      <td>00fafabae48948779fee2afe600f5143,1e433d6b30887...</td>\n",
       "      <td>1</td>\n",
       "      <td>15</td>\n",
       "      <td>3</td>\n",
       "      <td>077d2820ae1845bcbb1803379a3d1eae</td>\n",
       "      <td>15</td>\n",
       "      <td>None</td>\n",
       "      <td>None</td>\n",
       "      <td>077d2820ae1845bcbb1803379a3d1eae</td>\n",
       "      <td>0</td>\n",
       "      <td>0</td>\n",
       "    </tr>\n",
       "    <tr>\n",
       "      <th>4</th>\n",
       "      <td>0</td>\n",
       "      <td>PARANORMAL MILITARY SQUAD</td>\n",
       "      <td>ORGANIZATION</td>\n",
       "      <td>The Paranormal Military Squad is an elite clan...</td>\n",
       "      <td>00fafabae48948779fee2afe600f5143,1e433d6b30887...</td>\n",
       "      <td>1</td>\n",
       "      <td>14</td>\n",
       "      <td>4</td>\n",
       "      <td>3671ea0dd4e84c1a9b02c5ab2c8f4bac</td>\n",
       "      <td>14</td>\n",
       "      <td>None</td>\n",
       "      <td>None</td>\n",
       "      <td>3671ea0dd4e84c1a9b02c5ab2c8f4bac</td>\n",
       "      <td>0</td>\n",
       "      <td>0</td>\n",
       "    </tr>\n",
       "  </tbody>\n",
       "</table>\n",
       "</div>"
      ]
     },
     "execution_count": 7,
     "metadata": {},
     "output_type": "execute_result"
    }
   ],
   "execution_count": 7
  },
  {
   "cell_type": "markdown",
   "metadata": {},
   "source": [
    "#### Read relationships"
   ]
  },
  {
   "cell_type": "code",
   "metadata": {
    "ExecuteTime": {
     "end_time": "2024-07-25T14:47:11.658329Z",
     "start_time": "2024-07-25T14:47:11.562569Z"
    }
   },
   "source": [
    "relationship_df = pd.read_parquet(f\"{INPUT_DIR}/{RELATIONSHIP_TABLE}.parquet\")\n",
    "relationships = read_indexer_relationships(relationship_df)\n",
    "\n",
    "print(f\"Relationship count: {len(relationship_df)}\")\n",
    "relationship_df.head()"
   ],
   "outputs": [
    {
     "name": "stdout",
     "output_type": "stream",
     "text": [
      "Relationship count: 276\n"
     ]
    },
    {
     "data": {
      "text/plain": [
       "        source        target  weight  \\\n",
       "0  ALEX MERCER   TAYLOR CRUZ     7.0   \n",
       "1  ALEX MERCER   TAYLOR CRUZ     7.0   \n",
       "2  ALEX MERCER   TAYLOR CRUZ     7.0   \n",
       "3  ALEX MERCER   TAYLOR CRUZ     7.0   \n",
       "4  ALEX MERCER  JORDAN HAYES     6.0   \n",
       "\n",
       "                                         description  \\\n",
       "0  Alex Mercer and Taylor Cruz are integral membe...   \n",
       "1  Alex Mercer and Taylor Cruz are integral membe...   \n",
       "2  Alex Mercer and Taylor Cruz are integral membe...   \n",
       "3  Alex Mercer and Taylor Cruz are integral membe...   \n",
       "4  Alex Mercer and Jordan Hayes are colleagues wh...   \n",
       "\n",
       "                                       text_unit_ids  \\\n",
       "0  [00fafabae48948779fee2afe600f5143, 1e433d6b308...   \n",
       "1  [00fafabae48948779fee2afe600f5143, 1e433d6b308...   \n",
       "2  [00fafabae48948779fee2afe600f5143, 1e433d6b308...   \n",
       "3  [00fafabae48948779fee2afe600f5143, 1e433d6b308...   \n",
       "4  [00fafabae48948779fee2afe600f5143, 2cf7a230c36...   \n",
       "\n",
       "                                 id human_readable_id  source_degree  \\\n",
       "0  b35c3d1a7daa4924b6bdb58bc69c354d                 0              9   \n",
       "1  b35c3d1a7daa4924b6bdb58bc69c354d                 0              9   \n",
       "2  b35c3d1a7daa4924b6bdb58bc69c354d                 0              9   \n",
       "3  b35c3d1a7daa4924b6bdb58bc69c354d                 0              9   \n",
       "4  a97e2ecd870944cfbe71c79bc0fcc752                 1              9   \n",
       "\n",
       "   target_degree  rank  \n",
       "0             12    21  \n",
       "1             12    21  \n",
       "2             12    21  \n",
       "3             12    21  \n",
       "4              9    18  "
      ],
      "text/html": [
       "<div>\n",
       "<style scoped>\n",
       "    .dataframe tbody tr th:only-of-type {\n",
       "        vertical-align: middle;\n",
       "    }\n",
       "\n",
       "    .dataframe tbody tr th {\n",
       "        vertical-align: top;\n",
       "    }\n",
       "\n",
       "    .dataframe thead th {\n",
       "        text-align: right;\n",
       "    }\n",
       "</style>\n",
       "<table border=\"1\" class=\"dataframe\">\n",
       "  <thead>\n",
       "    <tr style=\"text-align: right;\">\n",
       "      <th></th>\n",
       "      <th>source</th>\n",
       "      <th>target</th>\n",
       "      <th>weight</th>\n",
       "      <th>description</th>\n",
       "      <th>text_unit_ids</th>\n",
       "      <th>id</th>\n",
       "      <th>human_readable_id</th>\n",
       "      <th>source_degree</th>\n",
       "      <th>target_degree</th>\n",
       "      <th>rank</th>\n",
       "    </tr>\n",
       "  </thead>\n",
       "  <tbody>\n",
       "    <tr>\n",
       "      <th>0</th>\n",
       "      <td>ALEX MERCER</td>\n",
       "      <td>TAYLOR CRUZ</td>\n",
       "      <td>7.0</td>\n",
       "      <td>Alex Mercer and Taylor Cruz are integral membe...</td>\n",
       "      <td>[00fafabae48948779fee2afe600f5143, 1e433d6b308...</td>\n",
       "      <td>b35c3d1a7daa4924b6bdb58bc69c354d</td>\n",
       "      <td>0</td>\n",
       "      <td>9</td>\n",
       "      <td>12</td>\n",
       "      <td>21</td>\n",
       "    </tr>\n",
       "    <tr>\n",
       "      <th>1</th>\n",
       "      <td>ALEX MERCER</td>\n",
       "      <td>TAYLOR CRUZ</td>\n",
       "      <td>7.0</td>\n",
       "      <td>Alex Mercer and Taylor Cruz are integral membe...</td>\n",
       "      <td>[00fafabae48948779fee2afe600f5143, 1e433d6b308...</td>\n",
       "      <td>b35c3d1a7daa4924b6bdb58bc69c354d</td>\n",
       "      <td>0</td>\n",
       "      <td>9</td>\n",
       "      <td>12</td>\n",
       "      <td>21</td>\n",
       "    </tr>\n",
       "    <tr>\n",
       "      <th>2</th>\n",
       "      <td>ALEX MERCER</td>\n",
       "      <td>TAYLOR CRUZ</td>\n",
       "      <td>7.0</td>\n",
       "      <td>Alex Mercer and Taylor Cruz are integral membe...</td>\n",
       "      <td>[00fafabae48948779fee2afe600f5143, 1e433d6b308...</td>\n",
       "      <td>b35c3d1a7daa4924b6bdb58bc69c354d</td>\n",
       "      <td>0</td>\n",
       "      <td>9</td>\n",
       "      <td>12</td>\n",
       "      <td>21</td>\n",
       "    </tr>\n",
       "    <tr>\n",
       "      <th>3</th>\n",
       "      <td>ALEX MERCER</td>\n",
       "      <td>TAYLOR CRUZ</td>\n",
       "      <td>7.0</td>\n",
       "      <td>Alex Mercer and Taylor Cruz are integral membe...</td>\n",
       "      <td>[00fafabae48948779fee2afe600f5143, 1e433d6b308...</td>\n",
       "      <td>b35c3d1a7daa4924b6bdb58bc69c354d</td>\n",
       "      <td>0</td>\n",
       "      <td>9</td>\n",
       "      <td>12</td>\n",
       "      <td>21</td>\n",
       "    </tr>\n",
       "    <tr>\n",
       "      <th>4</th>\n",
       "      <td>ALEX MERCER</td>\n",
       "      <td>JORDAN HAYES</td>\n",
       "      <td>6.0</td>\n",
       "      <td>Alex Mercer and Jordan Hayes are colleagues wh...</td>\n",
       "      <td>[00fafabae48948779fee2afe600f5143, 2cf7a230c36...</td>\n",
       "      <td>a97e2ecd870944cfbe71c79bc0fcc752</td>\n",
       "      <td>1</td>\n",
       "      <td>9</td>\n",
       "      <td>9</td>\n",
       "      <td>18</td>\n",
       "    </tr>\n",
       "  </tbody>\n",
       "</table>\n",
       "</div>"
      ]
     },
     "execution_count": 8,
     "metadata": {},
     "output_type": "execute_result"
    }
   ],
   "execution_count": 8
  },
  {
   "cell_type": "code",
   "metadata": {
    "ExecuteTime": {
     "end_time": "2024-07-25T14:47:17.924773Z",
     "start_time": "2024-07-25T14:47:17.884866Z"
    }
   },
   "source": [
    "covariate_df = pd.read_parquet(f\"{INPUT_DIR}/{COVARIATE_TABLE}.parquet\")\n",
    "\n",
    "claims = read_indexer_covariates(covariate_df)\n",
    "\n",
    "print(f\"Claim records: {len(claims)}\")\n",
    "covariates = {\"claims\": claims}"
   ],
   "outputs": [
    {
     "name": "stdout",
     "output_type": "stream",
     "text": [
      "Claim records: 89\n"
     ]
    }
   ],
   "execution_count": 9
  },
  {
   "cell_type": "markdown",
   "metadata": {},
   "source": [
    "#### Read community reports"
   ]
  },
  {
   "cell_type": "code",
   "metadata": {
    "ExecuteTime": {
     "end_time": "2024-07-25T14:47:26.639116Z",
     "start_time": "2024-07-25T14:47:26.576538Z"
    }
   },
   "source": [
    "report_df = pd.read_parquet(f\"{INPUT_DIR}/{COMMUNITY_REPORT_TABLE}.parquet\")\n",
    "reports = read_indexer_reports(report_df, entity_df, COMMUNITY_LEVEL)\n",
    "\n",
    "print(f\"Report records: {len(report_df)}\")\n",
    "report_df.head()"
   ],
   "outputs": [
    {
     "name": "stdout",
     "output_type": "stream",
     "text": [
      "Report records: 6\n"
     ]
    },
    {
     "data": {
      "text/plain": [
       "  community                                       full_content  level  rank  \\\n",
       "0         4  # Dulce Base and the Paranormal Military Squad...      1   8.5   \n",
       "1         5  # Sam Rivera and the Paranormal Military Squad...      1   7.5   \n",
       "2         0  # Dulce Base and the Paranormal Military Squad...      0   8.5   \n",
       "3         1  # Dulce Base and the Paranormal Military Squad...      0   8.5   \n",
       "4         2  # Dulce Base: Extraterrestrial Research and Co...      0   8.5   \n",
       "\n",
       "                                               title  \\\n",
       "0  Dulce Base and the Paranormal Military Squad: ...   \n",
       "1  Sam Rivera and the Paranormal Military Squad a...   \n",
       "2  Dulce Base and the Paranormal Military Squad Team   \n",
       "3  Dulce Base and the Paranormal Military Squad: ...   \n",
       "4  Dulce Base: Extraterrestrial Research and Comm...   \n",
       "\n",
       "                                    rank_explanation  \\\n",
       "0  The impact severity rating is high due to the ...   \n",
       "1  The impact severity rating is high due to the ...   \n",
       "2  The impact severity rating is high due to the ...   \n",
       "3  The impact severity rating is high due to the ...   \n",
       "4  The impact severity rating is high due to the ...   \n",
       "\n",
       "                                             summary  \\\n",
       "0  The community is centered around Dulce Base, a...   \n",
       "1  The community is centered around Sam Rivera, a...   \n",
       "2  Dulce Base serves as the operational hub for t...   \n",
       "3  The community is centered around Dulce Base, a...   \n",
       "4  Dulce Base is a highly classified facility in ...   \n",
       "\n",
       "                                            findings  \\\n",
       "0  [{'explanation': 'Dulce Base is the primary lo...   \n",
       "1  [{'explanation': 'Sam Rivera is recognized for...   \n",
       "2  [{'explanation': 'The Paranormal Military Squa...   \n",
       "3  [{'explanation': 'Sam Rivera is recognized for...   \n",
       "4  [{'explanation': 'Dulce Base is the epicenter ...   \n",
       "\n",
       "                                   full_content_json  \\\n",
       "0  {\\n    \"title\": \"Dulce Base and the Paranormal...   \n",
       "1  {\\n    \"title\": \"Sam Rivera and the Paranormal...   \n",
       "2  {\\n    \"title\": \"Dulce Base and the Paranormal...   \n",
       "3  {\\n    \"title\": \"Dulce Base and the Paranormal...   \n",
       "4  {\\n    \"title\": \"Dulce Base: Extraterrestrial ...   \n",
       "\n",
       "                                     id  \n",
       "0  6f8ba6b6-506e-46c1-83ce-982d59622554  \n",
       "1  418f4536-d673-4212-8a7c-ca1aac547d0f  \n",
       "2  251df57e-fd49-49a7-b262-ccaff95d7a51  \n",
       "3  6e536385-8056-4a82-8670-c0ccaf007fb4  \n",
       "4  660c8fba-b65f-4fcd-9c98-203600cf1981  "
      ],
      "text/html": [
       "<div>\n",
       "<style scoped>\n",
       "    .dataframe tbody tr th:only-of-type {\n",
       "        vertical-align: middle;\n",
       "    }\n",
       "\n",
       "    .dataframe tbody tr th {\n",
       "        vertical-align: top;\n",
       "    }\n",
       "\n",
       "    .dataframe thead th {\n",
       "        text-align: right;\n",
       "    }\n",
       "</style>\n",
       "<table border=\"1\" class=\"dataframe\">\n",
       "  <thead>\n",
       "    <tr style=\"text-align: right;\">\n",
       "      <th></th>\n",
       "      <th>community</th>\n",
       "      <th>full_content</th>\n",
       "      <th>level</th>\n",
       "      <th>rank</th>\n",
       "      <th>title</th>\n",
       "      <th>rank_explanation</th>\n",
       "      <th>summary</th>\n",
       "      <th>findings</th>\n",
       "      <th>full_content_json</th>\n",
       "      <th>id</th>\n",
       "    </tr>\n",
       "  </thead>\n",
       "  <tbody>\n",
       "    <tr>\n",
       "      <th>0</th>\n",
       "      <td>4</td>\n",
       "      <td># Dulce Base and the Paranormal Military Squad...</td>\n",
       "      <td>1</td>\n",
       "      <td>8.5</td>\n",
       "      <td>Dulce Base and the Paranormal Military Squad: ...</td>\n",
       "      <td>The impact severity rating is high due to the ...</td>\n",
       "      <td>The community is centered around Dulce Base, a...</td>\n",
       "      <td>[{'explanation': 'Dulce Base is the primary lo...</td>\n",
       "      <td>{\\n    \"title\": \"Dulce Base and the Paranormal...</td>\n",
       "      <td>6f8ba6b6-506e-46c1-83ce-982d59622554</td>\n",
       "    </tr>\n",
       "    <tr>\n",
       "      <th>1</th>\n",
       "      <td>5</td>\n",
       "      <td># Sam Rivera and the Paranormal Military Squad...</td>\n",
       "      <td>1</td>\n",
       "      <td>7.5</td>\n",
       "      <td>Sam Rivera and the Paranormal Military Squad a...</td>\n",
       "      <td>The impact severity rating is high due to the ...</td>\n",
       "      <td>The community is centered around Sam Rivera, a...</td>\n",
       "      <td>[{'explanation': 'Sam Rivera is recognized for...</td>\n",
       "      <td>{\\n    \"title\": \"Sam Rivera and the Paranormal...</td>\n",
       "      <td>418f4536-d673-4212-8a7c-ca1aac547d0f</td>\n",
       "    </tr>\n",
       "    <tr>\n",
       "      <th>2</th>\n",
       "      <td>0</td>\n",
       "      <td># Dulce Base and the Paranormal Military Squad...</td>\n",
       "      <td>0</td>\n",
       "      <td>8.5</td>\n",
       "      <td>Dulce Base and the Paranormal Military Squad Team</td>\n",
       "      <td>The impact severity rating is high due to the ...</td>\n",
       "      <td>Dulce Base serves as the operational hub for t...</td>\n",
       "      <td>[{'explanation': 'The Paranormal Military Squa...</td>\n",
       "      <td>{\\n    \"title\": \"Dulce Base and the Paranormal...</td>\n",
       "      <td>251df57e-fd49-49a7-b262-ccaff95d7a51</td>\n",
       "    </tr>\n",
       "    <tr>\n",
       "      <th>3</th>\n",
       "      <td>1</td>\n",
       "      <td># Dulce Base and the Paranormal Military Squad...</td>\n",
       "      <td>0</td>\n",
       "      <td>8.5</td>\n",
       "      <td>Dulce Base and the Paranormal Military Squad: ...</td>\n",
       "      <td>The impact severity rating is high due to the ...</td>\n",
       "      <td>The community is centered around Dulce Base, a...</td>\n",
       "      <td>[{'explanation': 'Sam Rivera is recognized for...</td>\n",
       "      <td>{\\n    \"title\": \"Dulce Base and the Paranormal...</td>\n",
       "      <td>6e536385-8056-4a82-8670-c0ccaf007fb4</td>\n",
       "    </tr>\n",
       "    <tr>\n",
       "      <th>4</th>\n",
       "      <td>2</td>\n",
       "      <td># Dulce Base: Extraterrestrial Research and Co...</td>\n",
       "      <td>0</td>\n",
       "      <td>8.5</td>\n",
       "      <td>Dulce Base: Extraterrestrial Research and Comm...</td>\n",
       "      <td>The impact severity rating is high due to the ...</td>\n",
       "      <td>Dulce Base is a highly classified facility in ...</td>\n",
       "      <td>[{'explanation': 'Dulce Base is the epicenter ...</td>\n",
       "      <td>{\\n    \"title\": \"Dulce Base: Extraterrestrial ...</td>\n",
       "      <td>660c8fba-b65f-4fcd-9c98-203600cf1981</td>\n",
       "    </tr>\n",
       "  </tbody>\n",
       "</table>\n",
       "</div>"
      ]
     },
     "execution_count": 10,
     "metadata": {},
     "output_type": "execute_result"
    }
   ],
   "execution_count": 10
  },
  {
   "cell_type": "markdown",
   "metadata": {},
   "source": [
    "#### Read text units"
   ]
  },
  {
   "cell_type": "code",
   "metadata": {
    "ExecuteTime": {
     "end_time": "2024-07-25T14:47:33.328236Z",
     "start_time": "2024-07-25T14:47:33.281793Z"
    }
   },
   "source": [
    "text_unit_df = pd.read_parquet(f\"{INPUT_DIR}/{TEXT_UNIT_TABLE}.parquet\")\n",
    "text_units = read_indexer_text_units(text_unit_df)\n",
    "\n",
    "print(f\"Text unit records: {len(text_unit_df)}\")\n",
    "text_unit_df.head()"
   ],
   "outputs": [
    {
     "name": "stdout",
     "output_type": "stream",
     "text": [
      "Text unit records: 12\n"
     ]
    },
    {
     "data": {
      "text/plain": [
       "                                 id  \\\n",
       "0  2cf7a230c367a2dfaf0fc3c903eb8948   \n",
       "1  6d1255303acb7c9dc951cb0f5fc3042c   \n",
       "2  e841f178310356740b2ee9101d12c97f   \n",
       "3  f36d96862b9366d7240b5c7ceb04f12b   \n",
       "4  f7d43808d2fb452cd953bf50c6de6bd4   \n",
       "\n",
       "                                                text  n_tokens  \\\n",
       "0  # Operation: Dulce\\n\\n## Chapter 1\\n\\nThe thru...      2500   \n",
       "1   be the same.\\n\\n\\*\\n\\nThe sense of foreboding...      2500   \n",
       "2  . \"Your take on these signal inconsistencies?\"...      2500   \n",
       "3  , absorbed in the bewilderment of contact, whi...      2500   \n",
       "4   were at once coherent and enigmatic: \"*Voyage...      2500   \n",
       "\n",
       "                         document_ids  \\\n",
       "0  [958fdd043f17ade63cb13570b59df295]   \n",
       "1  [958fdd043f17ade63cb13570b59df295]   \n",
       "2  [958fdd043f17ade63cb13570b59df295]   \n",
       "3  [958fdd043f17ade63cb13570b59df295]   \n",
       "4  [958fdd043f17ade63cb13570b59df295]   \n",
       "\n",
       "                                          entity_ids  \\\n",
       "0  [b45241d70f0e43fca764df95b2b81f77, 4119fd06010...   \n",
       "1  [b45241d70f0e43fca764df95b2b81f77, 4119fd06010...   \n",
       "2  [b45241d70f0e43fca764df95b2b81f77, 4119fd06010...   \n",
       "3  [b45241d70f0e43fca764df95b2b81f77, 4119fd06010...   \n",
       "4  [b45241d70f0e43fca764df95b2b81f77, 4119fd06010...   \n",
       "\n",
       "                                    relationship_ids  \\\n",
       "0  [b35c3d1a7daa4924b6bdb58bc69c354d, a97e2ecd870...   \n",
       "1  [b35c3d1a7daa4924b6bdb58bc69c354d, a97e2ecd870...   \n",
       "2  [b35c3d1a7daa4924b6bdb58bc69c354d, a97e2ecd870...   \n",
       "3  [b35c3d1a7daa4924b6bdb58bc69c354d, 09f18f81442...   \n",
       "4  [e02be3e37ca0454883a4c1fd859c24bb, 1dbc51475cb...   \n",
       "\n",
       "                                       covariate_ids  \n",
       "0  [ad5a2020-cdec-4982-acdf-dbe5ee530066, 9d8a0fe...  \n",
       "1  [5d1c9126-c48d-4755-9f9c-f739c823f95f, ec64a42...  \n",
       "2  [0b22a34b-32e9-46a4-a0e8-d3d5466eba15, 7e14972...  \n",
       "3  [9cd6d645-ab97-4b39-b02e-647cea9b5545, 50dc124...  \n",
       "4             [87cf5900-6211-4e04-9115-50f3617c88b4]  "
      ],
      "text/html": [
       "<div>\n",
       "<style scoped>\n",
       "    .dataframe tbody tr th:only-of-type {\n",
       "        vertical-align: middle;\n",
       "    }\n",
       "\n",
       "    .dataframe tbody tr th {\n",
       "        vertical-align: top;\n",
       "    }\n",
       "\n",
       "    .dataframe thead th {\n",
       "        text-align: right;\n",
       "    }\n",
       "</style>\n",
       "<table border=\"1\" class=\"dataframe\">\n",
       "  <thead>\n",
       "    <tr style=\"text-align: right;\">\n",
       "      <th></th>\n",
       "      <th>id</th>\n",
       "      <th>text</th>\n",
       "      <th>n_tokens</th>\n",
       "      <th>document_ids</th>\n",
       "      <th>entity_ids</th>\n",
       "      <th>relationship_ids</th>\n",
       "      <th>covariate_ids</th>\n",
       "    </tr>\n",
       "  </thead>\n",
       "  <tbody>\n",
       "    <tr>\n",
       "      <th>0</th>\n",
       "      <td>2cf7a230c367a2dfaf0fc3c903eb8948</td>\n",
       "      <td># Operation: Dulce\\n\\n## Chapter 1\\n\\nThe thru...</td>\n",
       "      <td>2500</td>\n",
       "      <td>[958fdd043f17ade63cb13570b59df295]</td>\n",
       "      <td>[b45241d70f0e43fca764df95b2b81f77, 4119fd06010...</td>\n",
       "      <td>[b35c3d1a7daa4924b6bdb58bc69c354d, a97e2ecd870...</td>\n",
       "      <td>[ad5a2020-cdec-4982-acdf-dbe5ee530066, 9d8a0fe...</td>\n",
       "    </tr>\n",
       "    <tr>\n",
       "      <th>1</th>\n",
       "      <td>6d1255303acb7c9dc951cb0f5fc3042c</td>\n",
       "      <td>be the same.\\n\\n\\*\\n\\nThe sense of foreboding...</td>\n",
       "      <td>2500</td>\n",
       "      <td>[958fdd043f17ade63cb13570b59df295]</td>\n",
       "      <td>[b45241d70f0e43fca764df95b2b81f77, 4119fd06010...</td>\n",
       "      <td>[b35c3d1a7daa4924b6bdb58bc69c354d, a97e2ecd870...</td>\n",
       "      <td>[5d1c9126-c48d-4755-9f9c-f739c823f95f, ec64a42...</td>\n",
       "    </tr>\n",
       "    <tr>\n",
       "      <th>2</th>\n",
       "      <td>e841f178310356740b2ee9101d12c97f</td>\n",
       "      <td>. \"Your take on these signal inconsistencies?\"...</td>\n",
       "      <td>2500</td>\n",
       "      <td>[958fdd043f17ade63cb13570b59df295]</td>\n",
       "      <td>[b45241d70f0e43fca764df95b2b81f77, 4119fd06010...</td>\n",
       "      <td>[b35c3d1a7daa4924b6bdb58bc69c354d, a97e2ecd870...</td>\n",
       "      <td>[0b22a34b-32e9-46a4-a0e8-d3d5466eba15, 7e14972...</td>\n",
       "    </tr>\n",
       "    <tr>\n",
       "      <th>3</th>\n",
       "      <td>f36d96862b9366d7240b5c7ceb04f12b</td>\n",
       "      <td>, absorbed in the bewilderment of contact, whi...</td>\n",
       "      <td>2500</td>\n",
       "      <td>[958fdd043f17ade63cb13570b59df295]</td>\n",
       "      <td>[b45241d70f0e43fca764df95b2b81f77, 4119fd06010...</td>\n",
       "      <td>[b35c3d1a7daa4924b6bdb58bc69c354d, 09f18f81442...</td>\n",
       "      <td>[9cd6d645-ab97-4b39-b02e-647cea9b5545, 50dc124...</td>\n",
       "    </tr>\n",
       "    <tr>\n",
       "      <th>4</th>\n",
       "      <td>f7d43808d2fb452cd953bf50c6de6bd4</td>\n",
       "      <td>were at once coherent and enigmatic: \"*Voyage...</td>\n",
       "      <td>2500</td>\n",
       "      <td>[958fdd043f17ade63cb13570b59df295]</td>\n",
       "      <td>[b45241d70f0e43fca764df95b2b81f77, 4119fd06010...</td>\n",
       "      <td>[e02be3e37ca0454883a4c1fd859c24bb, 1dbc51475cb...</td>\n",
       "      <td>[87cf5900-6211-4e04-9115-50f3617c88b4]</td>\n",
       "    </tr>\n",
       "  </tbody>\n",
       "</table>\n",
       "</div>"
      ]
     },
     "execution_count": 11,
     "metadata": {},
     "output_type": "execute_result"
    }
   ],
   "execution_count": 11
  },
  {
   "cell_type": "code",
   "metadata": {
    "ExecuteTime": {
     "end_time": "2024-07-25T15:30:00.047684Z",
     "start_time": "2024-07-25T15:29:59.731798Z"
    }
   },
   "source": [
    "api_key = \"EMPTY\"# os.environ[\"GRAPHRAG_API_KEY\"]\n",
    "llm_model = \"Llama-2-7b-chat-hf\"#os.environ[\"GRAPHRAG_LLM_MODEL\"]\n",
    "embedding_model = \"BAAI/bge-m3\" #os.environ[\"GRAPHRAG_EMBEDDING_MODEL\"]\n",
    "\n",
    "llm = ChatOpenAI(\n",
    "    api_key=api_key,\n",
    "    model=llm_model,\n",
    "    api_type=OpenaiApiType.OpenAI,  # OpenaiApiType.OpenAI or OpenaiApiType.AzureOpenAI\n",
    "    max_retries=20,\n",
    ")\n",
    "\n",
    "token_encoder = tiktoken.get_encoding(\"cl100k_base\")\n",
    "\n",
    "text_embedder = OpenAIEmbedding(\n",
    "    api_key=api_key,\n",
    "    api_base=None,\n",
    "    api_type=OpenaiApiType.OpenAI,\n",
    "    model=embedding_model,\n",
    "    deployment_name=embedding_model,\n",
    "    max_retries=20,\n",
    ")"
   ],
   "outputs": [],
   "execution_count": 13
  },
  {
   "cell_type": "markdown",
   "metadata": {},
   "source": [
    "### Create local search context builder"
   ]
  },
  {
   "cell_type": "code",
   "metadata": {
    "ExecuteTime": {
     "end_time": "2024-07-25T15:30:03.632642Z",
     "start_time": "2024-07-25T15:30:03.626181Z"
    }
   },
   "source": [
    "context_builder = LocalSearchMixedContext(\n",
    "    community_reports=reports,\n",
    "    text_units=text_units,\n",
    "    entities=entities,\n",
    "    relationships=relationships,\n",
    "    covariates=covariates,\n",
    "    entity_text_embeddings=description_embedding_store,\n",
    "    embedding_vectorstore_key=EntityVectorStoreKey.ID,  # if the vectorstore uses entity title as ids, set this to EntityVectorStoreKey.TITLE\n",
    "    text_embedder=text_embedder,\n",
    "    token_encoder=token_encoder,\n",
    ")"
   ],
   "outputs": [],
   "execution_count": 14
  },
  {
   "cell_type": "markdown",
   "metadata": {},
   "source": [
    "### Create local search engine"
   ]
  },
  {
   "cell_type": "code",
   "metadata": {
    "ExecuteTime": {
     "end_time": "2024-07-25T15:30:09.357614Z",
     "start_time": "2024-07-25T15:30:09.347841Z"
    }
   },
   "source": [
    "# text_unit_prop: proportion of context window dedicated to related text units\n",
    "# community_prop: proportion of context window dedicated to community reports.\n",
    "# The remaining proportion is dedicated to entities and relationships. Sum of text_unit_prop and community_prop should be <= 1\n",
    "# conversation_history_max_turns: maximum number of turns to include in the conversation history.\n",
    "# conversation_history_user_turns_only: if True, only include user queries in the conversation history.\n",
    "# top_k_mapped_entities: number of related entities to retrieve from the entity description embedding store.\n",
    "# top_k_relationships: control the number of out-of-network relationships to pull into the context window.\n",
    "# include_entity_rank: if True, include the entity rank in the entity table in the context window. Default entity rank = node degree.\n",
    "# include_relationship_weight: if True, include the relationship weight in the context window.\n",
    "# include_community_rank: if True, include the community rank in the context window.\n",
    "# return_candidate_context: if True, return a set of dataframes containing all candidate entity/relationship/covariate records that\n",
    "# could be relevant. Note that not all of these records will be included in the context window. The \"in_context\" column in these\n",
    "# dataframes indicates whether the record is included in the context window.\n",
    "# max_tokens: maximum number of tokens to use for the context window.\n",
    "\n",
    "\n",
    "local_context_params = {\n",
    "    \"text_unit_prop\": 0.5,\n",
    "    \"community_prop\": 0.1,\n",
    "    \"conversation_history_max_turns\": 5,\n",
    "    \"conversation_history_user_turns_only\": True,\n",
    "    \"top_k_mapped_entities\": 10,\n",
    "    \"top_k_relationships\": 10,\n",
    "    \"include_entity_rank\": True,\n",
    "    \"include_relationship_weight\": True,\n",
    "    \"include_community_rank\": False,\n",
    "    \"return_candidate_context\": False,\n",
    "    \"embedding_vectorstore_key\": EntityVectorStoreKey.ID,  # set this to EntityVectorStoreKey.TITLE if the vectorstore uses entity title as ids\n",
    "    \"max_tokens\": 12_000,  # change this based on the token limit you have on your model (if you are using a model with 8k limit, a good setting could be 5000)\n",
    "}\n",
    "\n",
    "llm_params = {\n",
    "    \"max_tokens\": 2_000,  # change this based on the token limit you have on your model (if you are using a model with 8k limit, a good setting could be 1000=1500)\n",
    "    \"temperature\": 0.0,\n",
    "}"
   ],
   "outputs": [],
   "execution_count": 15
  },
  {
   "cell_type": "code",
   "metadata": {
    "ExecuteTime": {
     "end_time": "2024-07-25T15:30:09.923739Z",
     "start_time": "2024-07-25T15:30:09.917470Z"
    }
   },
   "source": [
    "search_engine = LocalSearch(\n",
    "    llm=llm,\n",
    "    context_builder=context_builder,\n",
    "    token_encoder=token_encoder,\n",
    "    llm_params=llm_params,\n",
    "    context_builder_params=local_context_params,\n",
    "    response_type=\"multiple paragraphs\",  # free form text describing the response type and format, can be anything, e.g. prioritized list, single paragraph, multiple paragraphs, multiple-page report\n",
    ")"
   ],
   "outputs": [],
   "execution_count": 16
  },
  {
   "cell_type": "markdown",
   "metadata": {},
   "source": [
    "### Run local search on sample queries"
   ]
  },
  {
   "cell_type": "code",
   "metadata": {
    "ExecuteTime": {
     "end_time": "2024-07-25T15:30:14.477126Z",
     "start_time": "2024-07-25T15:30:13.549584Z"
    }
   },
   "source": [
    "result = await search_engine.asearch(\"Tell me about Agent Mercer\")\n",
    "print(result.response)"
   ],
   "outputs": [
    {
     "name": "stdout",
     "output_type": "stream",
     "text": [
      "Error embedding chunk {'OpenAIEmbedding': \"Error code: 401 - {'error': {'message': 'Incorrect API key provided: EMPTY. You can find your API key at https://platform.openai.com/account/api-keys.', 'type': 'invalid_request_error', 'param': None, 'code': 'invalid_api_key'}}\"}\n"
     ]
    },
    {
     "ename": "ZeroDivisionError",
     "evalue": "Weights sum to zero, can't be normalized",
     "output_type": "error",
     "traceback": [
      "\u001B[0;31m---------------------------------------------------------------------------\u001B[0m",
      "\u001B[0;31mZeroDivisionError\u001B[0m                         Traceback (most recent call last)",
      "Cell \u001B[0;32mIn[17], line 1\u001B[0m\n\u001B[0;32m----> 1\u001B[0m result \u001B[38;5;241m=\u001B[39m \u001B[38;5;28;01mawait\u001B[39;00m search_engine\u001B[38;5;241m.\u001B[39masearch(\u001B[38;5;124m\"\u001B[39m\u001B[38;5;124mTell me about Agent Mercer\u001B[39m\u001B[38;5;124m\"\u001B[39m)\n\u001B[1;32m      2\u001B[0m \u001B[38;5;28mprint\u001B[39m(result\u001B[38;5;241m.\u001B[39mresponse)\n",
      "File \u001B[0;32m~/anaconda3/envs/env_development/lib/python3.10/site-packages/graphrag/query/structured_search/local_search/search.py:66\u001B[0m, in \u001B[0;36mLocalSearch.asearch\u001B[0;34m(self, query, conversation_history, **kwargs)\u001B[0m\n\u001B[1;32m     63\u001B[0m start_time \u001B[38;5;241m=\u001B[39m time\u001B[38;5;241m.\u001B[39mtime()\n\u001B[1;32m     64\u001B[0m search_prompt \u001B[38;5;241m=\u001B[39m \u001B[38;5;124m\"\u001B[39m\u001B[38;5;124m\"\u001B[39m\n\u001B[0;32m---> 66\u001B[0m context_text, context_records \u001B[38;5;241m=\u001B[39m \u001B[38;5;28;43mself\u001B[39;49m\u001B[38;5;241;43m.\u001B[39;49m\u001B[43mcontext_builder\u001B[49m\u001B[38;5;241;43m.\u001B[39;49m\u001B[43mbuild_context\u001B[49m\u001B[43m(\u001B[49m\n\u001B[1;32m     67\u001B[0m \u001B[43m    \u001B[49m\u001B[43mquery\u001B[49m\u001B[38;5;241;43m=\u001B[39;49m\u001B[43mquery\u001B[49m\u001B[43m,\u001B[49m\n\u001B[1;32m     68\u001B[0m \u001B[43m    \u001B[49m\u001B[43mconversation_history\u001B[49m\u001B[38;5;241;43m=\u001B[39;49m\u001B[43mconversation_history\u001B[49m\u001B[43m,\u001B[49m\n\u001B[1;32m     69\u001B[0m \u001B[43m    \u001B[49m\u001B[38;5;241;43m*\u001B[39;49m\u001B[38;5;241;43m*\u001B[39;49m\u001B[43mkwargs\u001B[49m\u001B[43m,\u001B[49m\n\u001B[1;32m     70\u001B[0m \u001B[43m    \u001B[49m\u001B[38;5;241;43m*\u001B[39;49m\u001B[38;5;241;43m*\u001B[39;49m\u001B[38;5;28;43mself\u001B[39;49m\u001B[38;5;241;43m.\u001B[39;49m\u001B[43mcontext_builder_params\u001B[49m\u001B[43m,\u001B[49m\n\u001B[1;32m     71\u001B[0m \u001B[43m\u001B[49m\u001B[43m)\u001B[49m\n\u001B[1;32m     72\u001B[0m log\u001B[38;5;241m.\u001B[39minfo(\u001B[38;5;124m\"\u001B[39m\u001B[38;5;124mGENERATE ANSWER: \u001B[39m\u001B[38;5;132;01m%s\u001B[39;00m\u001B[38;5;124m. QUERY: \u001B[39m\u001B[38;5;132;01m%s\u001B[39;00m\u001B[38;5;124m\"\u001B[39m, start_time, query)\n\u001B[1;32m     73\u001B[0m \u001B[38;5;28;01mtry\u001B[39;00m:\n",
      "File \u001B[0;32m~/anaconda3/envs/env_development/lib/python3.10/site-packages/graphrag/query/structured_search/local_search/mixed_context.py:139\u001B[0m, in \u001B[0;36mLocalSearchMixedContext.build_context\u001B[0;34m(self, query, conversation_history, include_entity_names, exclude_entity_names, conversation_history_max_turns, conversation_history_user_turns_only, max_tokens, text_unit_prop, community_prop, top_k_mapped_entities, top_k_relationships, include_community_rank, include_entity_rank, rank_description, include_relationship_weight, relationship_ranking_attribute, return_candidate_context, use_community_summary, min_community_rank, community_context_name, column_delimiter, **kwargs)\u001B[0m\n\u001B[1;32m    134\u001B[0m     pre_user_questions \u001B[38;5;241m=\u001B[39m \u001B[38;5;124m\"\u001B[39m\u001B[38;5;130;01m\\n\u001B[39;00m\u001B[38;5;124m\"\u001B[39m\u001B[38;5;241m.\u001B[39mjoin(\n\u001B[1;32m    135\u001B[0m         conversation_history\u001B[38;5;241m.\u001B[39mget_user_turns(conversation_history_max_turns)\n\u001B[1;32m    136\u001B[0m     )\n\u001B[1;32m    137\u001B[0m     query \u001B[38;5;241m=\u001B[39m \u001B[38;5;124mf\u001B[39m\u001B[38;5;124m\"\u001B[39m\u001B[38;5;132;01m{\u001B[39;00mquery\u001B[38;5;132;01m}\u001B[39;00m\u001B[38;5;130;01m\\n\u001B[39;00m\u001B[38;5;132;01m{\u001B[39;00mpre_user_questions\u001B[38;5;132;01m}\u001B[39;00m\u001B[38;5;124m\"\u001B[39m\n\u001B[0;32m--> 139\u001B[0m selected_entities \u001B[38;5;241m=\u001B[39m \u001B[43mmap_query_to_entities\u001B[49m\u001B[43m(\u001B[49m\n\u001B[1;32m    140\u001B[0m \u001B[43m    \u001B[49m\u001B[43mquery\u001B[49m\u001B[38;5;241;43m=\u001B[39;49m\u001B[43mquery\u001B[49m\u001B[43m,\u001B[49m\n\u001B[1;32m    141\u001B[0m \u001B[43m    \u001B[49m\u001B[43mtext_embedding_vectorstore\u001B[49m\u001B[38;5;241;43m=\u001B[39;49m\u001B[38;5;28;43mself\u001B[39;49m\u001B[38;5;241;43m.\u001B[39;49m\u001B[43mentity_text_embeddings\u001B[49m\u001B[43m,\u001B[49m\n\u001B[1;32m    142\u001B[0m \u001B[43m    \u001B[49m\u001B[43mtext_embedder\u001B[49m\u001B[38;5;241;43m=\u001B[39;49m\u001B[38;5;28;43mself\u001B[39;49m\u001B[38;5;241;43m.\u001B[39;49m\u001B[43mtext_embedder\u001B[49m\u001B[43m,\u001B[49m\n\u001B[1;32m    143\u001B[0m \u001B[43m    \u001B[49m\u001B[43mall_entities\u001B[49m\u001B[38;5;241;43m=\u001B[39;49m\u001B[38;5;28;43mlist\u001B[39;49m\u001B[43m(\u001B[49m\u001B[38;5;28;43mself\u001B[39;49m\u001B[38;5;241;43m.\u001B[39;49m\u001B[43mentities\u001B[49m\u001B[38;5;241;43m.\u001B[39;49m\u001B[43mvalues\u001B[49m\u001B[43m(\u001B[49m\u001B[43m)\u001B[49m\u001B[43m)\u001B[49m\u001B[43m,\u001B[49m\n\u001B[1;32m    144\u001B[0m \u001B[43m    \u001B[49m\u001B[43membedding_vectorstore_key\u001B[49m\u001B[38;5;241;43m=\u001B[39;49m\u001B[38;5;28;43mself\u001B[39;49m\u001B[38;5;241;43m.\u001B[39;49m\u001B[43membedding_vectorstore_key\u001B[49m\u001B[43m,\u001B[49m\n\u001B[1;32m    145\u001B[0m \u001B[43m    \u001B[49m\u001B[43minclude_entity_names\u001B[49m\u001B[38;5;241;43m=\u001B[39;49m\u001B[43minclude_entity_names\u001B[49m\u001B[43m,\u001B[49m\n\u001B[1;32m    146\u001B[0m \u001B[43m    \u001B[49m\u001B[43mexclude_entity_names\u001B[49m\u001B[38;5;241;43m=\u001B[39;49m\u001B[43mexclude_entity_names\u001B[49m\u001B[43m,\u001B[49m\n\u001B[1;32m    147\u001B[0m \u001B[43m    \u001B[49m\u001B[43mk\u001B[49m\u001B[38;5;241;43m=\u001B[39;49m\u001B[43mtop_k_mapped_entities\u001B[49m\u001B[43m,\u001B[49m\n\u001B[1;32m    148\u001B[0m \u001B[43m    \u001B[49m\u001B[43moversample_scaler\u001B[49m\u001B[38;5;241;43m=\u001B[39;49m\u001B[38;5;241;43m2\u001B[39;49m\u001B[43m,\u001B[49m\n\u001B[1;32m    149\u001B[0m \u001B[43m\u001B[49m\u001B[43m)\u001B[49m\n\u001B[1;32m    151\u001B[0m \u001B[38;5;66;03m# build context\u001B[39;00m\n\u001B[1;32m    152\u001B[0m final_context \u001B[38;5;241m=\u001B[39m \u001B[38;5;28mlist\u001B[39m[\u001B[38;5;28mstr\u001B[39m]()\n",
      "File \u001B[0;32m~/anaconda3/envs/env_development/lib/python3.10/site-packages/graphrag/query/context_builder/entity_extraction.py:55\u001B[0m, in \u001B[0;36mmap_query_to_entities\u001B[0;34m(query, text_embedding_vectorstore, text_embedder, all_entities, embedding_vectorstore_key, include_entity_names, exclude_entity_names, k, oversample_scaler)\u001B[0m\n\u001B[1;32m     51\u001B[0m matched_entities \u001B[38;5;241m=\u001B[39m []\n\u001B[1;32m     52\u001B[0m \u001B[38;5;28;01mif\u001B[39;00m query \u001B[38;5;241m!=\u001B[39m \u001B[38;5;124m\"\u001B[39m\u001B[38;5;124m\"\u001B[39m:\n\u001B[1;32m     53\u001B[0m     \u001B[38;5;66;03m# get entities with highest semantic similarity to query\u001B[39;00m\n\u001B[1;32m     54\u001B[0m     \u001B[38;5;66;03m# oversample to account for excluded entities\u001B[39;00m\n\u001B[0;32m---> 55\u001B[0m     search_results \u001B[38;5;241m=\u001B[39m \u001B[43mtext_embedding_vectorstore\u001B[49m\u001B[38;5;241;43m.\u001B[39;49m\u001B[43msimilarity_search_by_text\u001B[49m\u001B[43m(\u001B[49m\n\u001B[1;32m     56\u001B[0m \u001B[43m        \u001B[49m\u001B[43mtext\u001B[49m\u001B[38;5;241;43m=\u001B[39;49m\u001B[43mquery\u001B[49m\u001B[43m,\u001B[49m\n\u001B[1;32m     57\u001B[0m \u001B[43m        \u001B[49m\u001B[43mtext_embedder\u001B[49m\u001B[38;5;241;43m=\u001B[39;49m\u001B[38;5;28;43;01mlambda\u001B[39;49;00m\u001B[43m \u001B[49m\u001B[43mt\u001B[49m\u001B[43m:\u001B[49m\u001B[43m \u001B[49m\u001B[43mtext_embedder\u001B[49m\u001B[38;5;241;43m.\u001B[39;49m\u001B[43membed\u001B[49m\u001B[43m(\u001B[49m\u001B[43mt\u001B[49m\u001B[43m)\u001B[49m\u001B[43m,\u001B[49m\n\u001B[1;32m     58\u001B[0m \u001B[43m        \u001B[49m\u001B[43mk\u001B[49m\u001B[38;5;241;43m=\u001B[39;49m\u001B[43mk\u001B[49m\u001B[43m \u001B[49m\u001B[38;5;241;43m*\u001B[39;49m\u001B[43m \u001B[49m\u001B[43moversample_scaler\u001B[49m\u001B[43m,\u001B[49m\n\u001B[1;32m     59\u001B[0m \u001B[43m    \u001B[49m\u001B[43m)\u001B[49m\n\u001B[1;32m     60\u001B[0m     \u001B[38;5;28;01mfor\u001B[39;00m result \u001B[38;5;129;01min\u001B[39;00m search_results:\n\u001B[1;32m     61\u001B[0m         matched \u001B[38;5;241m=\u001B[39m get_entity_by_key(\n\u001B[1;32m     62\u001B[0m             entities\u001B[38;5;241m=\u001B[39mall_entities,\n\u001B[1;32m     63\u001B[0m             key\u001B[38;5;241m=\u001B[39membedding_vectorstore_key,\n\u001B[1;32m     64\u001B[0m             value\u001B[38;5;241m=\u001B[39mresult\u001B[38;5;241m.\u001B[39mdocument\u001B[38;5;241m.\u001B[39mid,\n\u001B[1;32m     65\u001B[0m         )\n",
      "File \u001B[0;32m~/anaconda3/envs/env_development/lib/python3.10/site-packages/graphrag/vector_stores/lancedb.py:118\u001B[0m, in \u001B[0;36mLanceDBVectorStore.similarity_search_by_text\u001B[0;34m(self, text, text_embedder, k, **kwargs)\u001B[0m\n\u001B[1;32m    114\u001B[0m \u001B[38;5;28;01mdef\u001B[39;00m \u001B[38;5;21msimilarity_search_by_text\u001B[39m(\n\u001B[1;32m    115\u001B[0m     \u001B[38;5;28mself\u001B[39m, text: \u001B[38;5;28mstr\u001B[39m, text_embedder: TextEmbedder, k: \u001B[38;5;28mint\u001B[39m \u001B[38;5;241m=\u001B[39m \u001B[38;5;241m10\u001B[39m, \u001B[38;5;241m*\u001B[39m\u001B[38;5;241m*\u001B[39mkwargs: Any\n\u001B[1;32m    116\u001B[0m ) \u001B[38;5;241m-\u001B[39m\u001B[38;5;241m>\u001B[39m \u001B[38;5;28mlist\u001B[39m[VectorStoreSearchResult]:\n\u001B[1;32m    117\u001B[0m \u001B[38;5;250m    \u001B[39m\u001B[38;5;124;03m\"\"\"Perform a similarity search using a given input text.\"\"\"\u001B[39;00m\n\u001B[0;32m--> 118\u001B[0m     query_embedding \u001B[38;5;241m=\u001B[39m \u001B[43mtext_embedder\u001B[49m\u001B[43m(\u001B[49m\u001B[43mtext\u001B[49m\u001B[43m)\u001B[49m\n\u001B[1;32m    119\u001B[0m     \u001B[38;5;28;01mif\u001B[39;00m query_embedding:\n\u001B[1;32m    120\u001B[0m         \u001B[38;5;28;01mreturn\u001B[39;00m \u001B[38;5;28mself\u001B[39m\u001B[38;5;241m.\u001B[39msimilarity_search_by_vector(query_embedding, k)\n",
      "File \u001B[0;32m~/anaconda3/envs/env_development/lib/python3.10/site-packages/graphrag/query/context_builder/entity_extraction.py:57\u001B[0m, in \u001B[0;36mmap_query_to_entities.<locals>.<lambda>\u001B[0;34m(t)\u001B[0m\n\u001B[1;32m     51\u001B[0m matched_entities \u001B[38;5;241m=\u001B[39m []\n\u001B[1;32m     52\u001B[0m \u001B[38;5;28;01mif\u001B[39;00m query \u001B[38;5;241m!=\u001B[39m \u001B[38;5;124m\"\u001B[39m\u001B[38;5;124m\"\u001B[39m:\n\u001B[1;32m     53\u001B[0m     \u001B[38;5;66;03m# get entities with highest semantic similarity to query\u001B[39;00m\n\u001B[1;32m     54\u001B[0m     \u001B[38;5;66;03m# oversample to account for excluded entities\u001B[39;00m\n\u001B[1;32m     55\u001B[0m     search_results \u001B[38;5;241m=\u001B[39m text_embedding_vectorstore\u001B[38;5;241m.\u001B[39msimilarity_search_by_text(\n\u001B[1;32m     56\u001B[0m         text\u001B[38;5;241m=\u001B[39mquery,\n\u001B[0;32m---> 57\u001B[0m         text_embedder\u001B[38;5;241m=\u001B[39m\u001B[38;5;28;01mlambda\u001B[39;00m t: \u001B[43mtext_embedder\u001B[49m\u001B[38;5;241;43m.\u001B[39;49m\u001B[43membed\u001B[49m\u001B[43m(\u001B[49m\u001B[43mt\u001B[49m\u001B[43m)\u001B[49m,\n\u001B[1;32m     58\u001B[0m         k\u001B[38;5;241m=\u001B[39mk \u001B[38;5;241m*\u001B[39m oversample_scaler,\n\u001B[1;32m     59\u001B[0m     )\n\u001B[1;32m     60\u001B[0m     \u001B[38;5;28;01mfor\u001B[39;00m result \u001B[38;5;129;01min\u001B[39;00m search_results:\n\u001B[1;32m     61\u001B[0m         matched \u001B[38;5;241m=\u001B[39m get_entity_by_key(\n\u001B[1;32m     62\u001B[0m             entities\u001B[38;5;241m=\u001B[39mall_entities,\n\u001B[1;32m     63\u001B[0m             key\u001B[38;5;241m=\u001B[39membedding_vectorstore_key,\n\u001B[1;32m     64\u001B[0m             value\u001B[38;5;241m=\u001B[39mresult\u001B[38;5;241m.\u001B[39mdocument\u001B[38;5;241m.\u001B[39mid,\n\u001B[1;32m     65\u001B[0m         )\n",
      "File \u001B[0;32m~/anaconda3/envs/env_development/lib/python3.10/site-packages/graphrag/query/llm/oai/embedding.py:96\u001B[0m, in \u001B[0;36mOpenAIEmbedding.embed\u001B[0;34m(self, text, **kwargs)\u001B[0m\n\u001B[1;32m     90\u001B[0m         \u001B[38;5;28mself\u001B[39m\u001B[38;5;241m.\u001B[39m_reporter\u001B[38;5;241m.\u001B[39merror(\n\u001B[1;32m     91\u001B[0m             message\u001B[38;5;241m=\u001B[39m\u001B[38;5;124m\"\u001B[39m\u001B[38;5;124mError embedding chunk\u001B[39m\u001B[38;5;124m\"\u001B[39m,\n\u001B[1;32m     92\u001B[0m             details\u001B[38;5;241m=\u001B[39m{\u001B[38;5;28mself\u001B[39m\u001B[38;5;241m.\u001B[39m\u001B[38;5;18m__class__\u001B[39m\u001B[38;5;241m.\u001B[39m\u001B[38;5;18m__name__\u001B[39m: \u001B[38;5;28mstr\u001B[39m(e)},\n\u001B[1;32m     93\u001B[0m         )\n\u001B[1;32m     95\u001B[0m         \u001B[38;5;28;01mcontinue\u001B[39;00m\n\u001B[0;32m---> 96\u001B[0m chunk_embeddings \u001B[38;5;241m=\u001B[39m \u001B[43mnp\u001B[49m\u001B[38;5;241;43m.\u001B[39;49m\u001B[43maverage\u001B[49m\u001B[43m(\u001B[49m\u001B[43mchunk_embeddings\u001B[49m\u001B[43m,\u001B[49m\u001B[43m \u001B[49m\u001B[43maxis\u001B[49m\u001B[38;5;241;43m=\u001B[39;49m\u001B[38;5;241;43m0\u001B[39;49m\u001B[43m,\u001B[49m\u001B[43m \u001B[49m\u001B[43mweights\u001B[49m\u001B[38;5;241;43m=\u001B[39;49m\u001B[43mchunk_lens\u001B[49m\u001B[43m)\u001B[49m\n\u001B[1;32m     97\u001B[0m chunk_embeddings \u001B[38;5;241m=\u001B[39m chunk_embeddings \u001B[38;5;241m/\u001B[39m np\u001B[38;5;241m.\u001B[39mlinalg\u001B[38;5;241m.\u001B[39mnorm(chunk_embeddings)\n\u001B[1;32m     98\u001B[0m \u001B[38;5;28;01mreturn\u001B[39;00m chunk_embeddings\u001B[38;5;241m.\u001B[39mtolist()\n",
      "File \u001B[0;32m~/anaconda3/envs/env_development/lib/python3.10/site-packages/numpy/lib/function_base.py:550\u001B[0m, in \u001B[0;36maverage\u001B[0;34m(a, axis, weights, returned, keepdims)\u001B[0m\n\u001B[1;32m    548\u001B[0m     scl \u001B[38;5;241m=\u001B[39m wgt\u001B[38;5;241m.\u001B[39msum(axis\u001B[38;5;241m=\u001B[39maxis, dtype\u001B[38;5;241m=\u001B[39mresult_dtype, \u001B[38;5;241m*\u001B[39m\u001B[38;5;241m*\u001B[39mkeepdims_kw)\n\u001B[1;32m    549\u001B[0m     \u001B[38;5;28;01mif\u001B[39;00m np\u001B[38;5;241m.\u001B[39many(scl \u001B[38;5;241m==\u001B[39m \u001B[38;5;241m0.0\u001B[39m):\n\u001B[0;32m--> 550\u001B[0m         \u001B[38;5;28;01mraise\u001B[39;00m \u001B[38;5;167;01mZeroDivisionError\u001B[39;00m(\n\u001B[1;32m    551\u001B[0m             \u001B[38;5;124m\"\u001B[39m\u001B[38;5;124mWeights sum to zero, can\u001B[39m\u001B[38;5;124m'\u001B[39m\u001B[38;5;124mt be normalized\u001B[39m\u001B[38;5;124m\"\u001B[39m)\n\u001B[1;32m    553\u001B[0m     avg \u001B[38;5;241m=\u001B[39m avg_as_array \u001B[38;5;241m=\u001B[39m np\u001B[38;5;241m.\u001B[39mmultiply(a, wgt,\n\u001B[1;32m    554\u001B[0m                       dtype\u001B[38;5;241m=\u001B[39mresult_dtype)\u001B[38;5;241m.\u001B[39msum(axis, \u001B[38;5;241m*\u001B[39m\u001B[38;5;241m*\u001B[39mkeepdims_kw) \u001B[38;5;241m/\u001B[39m scl\n\u001B[1;32m    556\u001B[0m \u001B[38;5;28;01mif\u001B[39;00m returned:\n",
      "\u001B[0;31mZeroDivisionError\u001B[0m: Weights sum to zero, can't be normalized"
     ]
    }
   ],
   "execution_count": 17
  },
  {
   "cell_type": "code",
   "metadata": {
    "ExecuteTime": {
     "end_time": "2024-07-25T15:30:18.739474Z",
     "start_time": "2024-07-25T15:30:18.350076Z"
    }
   },
   "source": [
    "question = \"Tell me about Dr. Jordan Hayes\"\n",
    "result = await search_engine.asearch(question)\n",
    "print(result.response)"
   ],
   "outputs": [
    {
     "name": "stdout",
     "output_type": "stream",
     "text": [
      "Error embedding chunk {'OpenAIEmbedding': \"Error code: 401 - {'error': {'message': 'Incorrect API key provided: EMPTY. You can find your API key at https://platform.openai.com/account/api-keys.', 'type': 'invalid_request_error', 'param': None, 'code': 'invalid_api_key'}}\"}\n"
     ]
    },
    {
     "ename": "ZeroDivisionError",
     "evalue": "Weights sum to zero, can't be normalized",
     "output_type": "error",
     "traceback": [
      "\u001B[0;31m---------------------------------------------------------------------------\u001B[0m",
      "\u001B[0;31mZeroDivisionError\u001B[0m                         Traceback (most recent call last)",
      "Cell \u001B[0;32mIn[18], line 2\u001B[0m\n\u001B[1;32m      1\u001B[0m question \u001B[38;5;241m=\u001B[39m \u001B[38;5;124m\"\u001B[39m\u001B[38;5;124mTell me about Dr. Jordan Hayes\u001B[39m\u001B[38;5;124m\"\u001B[39m\n\u001B[0;32m----> 2\u001B[0m result \u001B[38;5;241m=\u001B[39m \u001B[38;5;28;01mawait\u001B[39;00m search_engine\u001B[38;5;241m.\u001B[39masearch(question)\n\u001B[1;32m      3\u001B[0m \u001B[38;5;28mprint\u001B[39m(result\u001B[38;5;241m.\u001B[39mresponse)\n",
      "File \u001B[0;32m~/anaconda3/envs/env_development/lib/python3.10/site-packages/graphrag/query/structured_search/local_search/search.py:66\u001B[0m, in \u001B[0;36mLocalSearch.asearch\u001B[0;34m(self, query, conversation_history, **kwargs)\u001B[0m\n\u001B[1;32m     63\u001B[0m start_time \u001B[38;5;241m=\u001B[39m time\u001B[38;5;241m.\u001B[39mtime()\n\u001B[1;32m     64\u001B[0m search_prompt \u001B[38;5;241m=\u001B[39m \u001B[38;5;124m\"\u001B[39m\u001B[38;5;124m\"\u001B[39m\n\u001B[0;32m---> 66\u001B[0m context_text, context_records \u001B[38;5;241m=\u001B[39m \u001B[38;5;28;43mself\u001B[39;49m\u001B[38;5;241;43m.\u001B[39;49m\u001B[43mcontext_builder\u001B[49m\u001B[38;5;241;43m.\u001B[39;49m\u001B[43mbuild_context\u001B[49m\u001B[43m(\u001B[49m\n\u001B[1;32m     67\u001B[0m \u001B[43m    \u001B[49m\u001B[43mquery\u001B[49m\u001B[38;5;241;43m=\u001B[39;49m\u001B[43mquery\u001B[49m\u001B[43m,\u001B[49m\n\u001B[1;32m     68\u001B[0m \u001B[43m    \u001B[49m\u001B[43mconversation_history\u001B[49m\u001B[38;5;241;43m=\u001B[39;49m\u001B[43mconversation_history\u001B[49m\u001B[43m,\u001B[49m\n\u001B[1;32m     69\u001B[0m \u001B[43m    \u001B[49m\u001B[38;5;241;43m*\u001B[39;49m\u001B[38;5;241;43m*\u001B[39;49m\u001B[43mkwargs\u001B[49m\u001B[43m,\u001B[49m\n\u001B[1;32m     70\u001B[0m \u001B[43m    \u001B[49m\u001B[38;5;241;43m*\u001B[39;49m\u001B[38;5;241;43m*\u001B[39;49m\u001B[38;5;28;43mself\u001B[39;49m\u001B[38;5;241;43m.\u001B[39;49m\u001B[43mcontext_builder_params\u001B[49m\u001B[43m,\u001B[49m\n\u001B[1;32m     71\u001B[0m \u001B[43m\u001B[49m\u001B[43m)\u001B[49m\n\u001B[1;32m     72\u001B[0m log\u001B[38;5;241m.\u001B[39minfo(\u001B[38;5;124m\"\u001B[39m\u001B[38;5;124mGENERATE ANSWER: \u001B[39m\u001B[38;5;132;01m%s\u001B[39;00m\u001B[38;5;124m. QUERY: \u001B[39m\u001B[38;5;132;01m%s\u001B[39;00m\u001B[38;5;124m\"\u001B[39m, start_time, query)\n\u001B[1;32m     73\u001B[0m \u001B[38;5;28;01mtry\u001B[39;00m:\n",
      "File \u001B[0;32m~/anaconda3/envs/env_development/lib/python3.10/site-packages/graphrag/query/structured_search/local_search/mixed_context.py:139\u001B[0m, in \u001B[0;36mLocalSearchMixedContext.build_context\u001B[0;34m(self, query, conversation_history, include_entity_names, exclude_entity_names, conversation_history_max_turns, conversation_history_user_turns_only, max_tokens, text_unit_prop, community_prop, top_k_mapped_entities, top_k_relationships, include_community_rank, include_entity_rank, rank_description, include_relationship_weight, relationship_ranking_attribute, return_candidate_context, use_community_summary, min_community_rank, community_context_name, column_delimiter, **kwargs)\u001B[0m\n\u001B[1;32m    134\u001B[0m     pre_user_questions \u001B[38;5;241m=\u001B[39m \u001B[38;5;124m\"\u001B[39m\u001B[38;5;130;01m\\n\u001B[39;00m\u001B[38;5;124m\"\u001B[39m\u001B[38;5;241m.\u001B[39mjoin(\n\u001B[1;32m    135\u001B[0m         conversation_history\u001B[38;5;241m.\u001B[39mget_user_turns(conversation_history_max_turns)\n\u001B[1;32m    136\u001B[0m     )\n\u001B[1;32m    137\u001B[0m     query \u001B[38;5;241m=\u001B[39m \u001B[38;5;124mf\u001B[39m\u001B[38;5;124m\"\u001B[39m\u001B[38;5;132;01m{\u001B[39;00mquery\u001B[38;5;132;01m}\u001B[39;00m\u001B[38;5;130;01m\\n\u001B[39;00m\u001B[38;5;132;01m{\u001B[39;00mpre_user_questions\u001B[38;5;132;01m}\u001B[39;00m\u001B[38;5;124m\"\u001B[39m\n\u001B[0;32m--> 139\u001B[0m selected_entities \u001B[38;5;241m=\u001B[39m \u001B[43mmap_query_to_entities\u001B[49m\u001B[43m(\u001B[49m\n\u001B[1;32m    140\u001B[0m \u001B[43m    \u001B[49m\u001B[43mquery\u001B[49m\u001B[38;5;241;43m=\u001B[39;49m\u001B[43mquery\u001B[49m\u001B[43m,\u001B[49m\n\u001B[1;32m    141\u001B[0m \u001B[43m    \u001B[49m\u001B[43mtext_embedding_vectorstore\u001B[49m\u001B[38;5;241;43m=\u001B[39;49m\u001B[38;5;28;43mself\u001B[39;49m\u001B[38;5;241;43m.\u001B[39;49m\u001B[43mentity_text_embeddings\u001B[49m\u001B[43m,\u001B[49m\n\u001B[1;32m    142\u001B[0m \u001B[43m    \u001B[49m\u001B[43mtext_embedder\u001B[49m\u001B[38;5;241;43m=\u001B[39;49m\u001B[38;5;28;43mself\u001B[39;49m\u001B[38;5;241;43m.\u001B[39;49m\u001B[43mtext_embedder\u001B[49m\u001B[43m,\u001B[49m\n\u001B[1;32m    143\u001B[0m \u001B[43m    \u001B[49m\u001B[43mall_entities\u001B[49m\u001B[38;5;241;43m=\u001B[39;49m\u001B[38;5;28;43mlist\u001B[39;49m\u001B[43m(\u001B[49m\u001B[38;5;28;43mself\u001B[39;49m\u001B[38;5;241;43m.\u001B[39;49m\u001B[43mentities\u001B[49m\u001B[38;5;241;43m.\u001B[39;49m\u001B[43mvalues\u001B[49m\u001B[43m(\u001B[49m\u001B[43m)\u001B[49m\u001B[43m)\u001B[49m\u001B[43m,\u001B[49m\n\u001B[1;32m    144\u001B[0m \u001B[43m    \u001B[49m\u001B[43membedding_vectorstore_key\u001B[49m\u001B[38;5;241;43m=\u001B[39;49m\u001B[38;5;28;43mself\u001B[39;49m\u001B[38;5;241;43m.\u001B[39;49m\u001B[43membedding_vectorstore_key\u001B[49m\u001B[43m,\u001B[49m\n\u001B[1;32m    145\u001B[0m \u001B[43m    \u001B[49m\u001B[43minclude_entity_names\u001B[49m\u001B[38;5;241;43m=\u001B[39;49m\u001B[43minclude_entity_names\u001B[49m\u001B[43m,\u001B[49m\n\u001B[1;32m    146\u001B[0m \u001B[43m    \u001B[49m\u001B[43mexclude_entity_names\u001B[49m\u001B[38;5;241;43m=\u001B[39;49m\u001B[43mexclude_entity_names\u001B[49m\u001B[43m,\u001B[49m\n\u001B[1;32m    147\u001B[0m \u001B[43m    \u001B[49m\u001B[43mk\u001B[49m\u001B[38;5;241;43m=\u001B[39;49m\u001B[43mtop_k_mapped_entities\u001B[49m\u001B[43m,\u001B[49m\n\u001B[1;32m    148\u001B[0m \u001B[43m    \u001B[49m\u001B[43moversample_scaler\u001B[49m\u001B[38;5;241;43m=\u001B[39;49m\u001B[38;5;241;43m2\u001B[39;49m\u001B[43m,\u001B[49m\n\u001B[1;32m    149\u001B[0m \u001B[43m\u001B[49m\u001B[43m)\u001B[49m\n\u001B[1;32m    151\u001B[0m \u001B[38;5;66;03m# build context\u001B[39;00m\n\u001B[1;32m    152\u001B[0m final_context \u001B[38;5;241m=\u001B[39m \u001B[38;5;28mlist\u001B[39m[\u001B[38;5;28mstr\u001B[39m]()\n",
      "File \u001B[0;32m~/anaconda3/envs/env_development/lib/python3.10/site-packages/graphrag/query/context_builder/entity_extraction.py:55\u001B[0m, in \u001B[0;36mmap_query_to_entities\u001B[0;34m(query, text_embedding_vectorstore, text_embedder, all_entities, embedding_vectorstore_key, include_entity_names, exclude_entity_names, k, oversample_scaler)\u001B[0m\n\u001B[1;32m     51\u001B[0m matched_entities \u001B[38;5;241m=\u001B[39m []\n\u001B[1;32m     52\u001B[0m \u001B[38;5;28;01mif\u001B[39;00m query \u001B[38;5;241m!=\u001B[39m \u001B[38;5;124m\"\u001B[39m\u001B[38;5;124m\"\u001B[39m:\n\u001B[1;32m     53\u001B[0m     \u001B[38;5;66;03m# get entities with highest semantic similarity to query\u001B[39;00m\n\u001B[1;32m     54\u001B[0m     \u001B[38;5;66;03m# oversample to account for excluded entities\u001B[39;00m\n\u001B[0;32m---> 55\u001B[0m     search_results \u001B[38;5;241m=\u001B[39m \u001B[43mtext_embedding_vectorstore\u001B[49m\u001B[38;5;241;43m.\u001B[39;49m\u001B[43msimilarity_search_by_text\u001B[49m\u001B[43m(\u001B[49m\n\u001B[1;32m     56\u001B[0m \u001B[43m        \u001B[49m\u001B[43mtext\u001B[49m\u001B[38;5;241;43m=\u001B[39;49m\u001B[43mquery\u001B[49m\u001B[43m,\u001B[49m\n\u001B[1;32m     57\u001B[0m \u001B[43m        \u001B[49m\u001B[43mtext_embedder\u001B[49m\u001B[38;5;241;43m=\u001B[39;49m\u001B[38;5;28;43;01mlambda\u001B[39;49;00m\u001B[43m \u001B[49m\u001B[43mt\u001B[49m\u001B[43m:\u001B[49m\u001B[43m \u001B[49m\u001B[43mtext_embedder\u001B[49m\u001B[38;5;241;43m.\u001B[39;49m\u001B[43membed\u001B[49m\u001B[43m(\u001B[49m\u001B[43mt\u001B[49m\u001B[43m)\u001B[49m\u001B[43m,\u001B[49m\n\u001B[1;32m     58\u001B[0m \u001B[43m        \u001B[49m\u001B[43mk\u001B[49m\u001B[38;5;241;43m=\u001B[39;49m\u001B[43mk\u001B[49m\u001B[43m \u001B[49m\u001B[38;5;241;43m*\u001B[39;49m\u001B[43m \u001B[49m\u001B[43moversample_scaler\u001B[49m\u001B[43m,\u001B[49m\n\u001B[1;32m     59\u001B[0m \u001B[43m    \u001B[49m\u001B[43m)\u001B[49m\n\u001B[1;32m     60\u001B[0m     \u001B[38;5;28;01mfor\u001B[39;00m result \u001B[38;5;129;01min\u001B[39;00m search_results:\n\u001B[1;32m     61\u001B[0m         matched \u001B[38;5;241m=\u001B[39m get_entity_by_key(\n\u001B[1;32m     62\u001B[0m             entities\u001B[38;5;241m=\u001B[39mall_entities,\n\u001B[1;32m     63\u001B[0m             key\u001B[38;5;241m=\u001B[39membedding_vectorstore_key,\n\u001B[1;32m     64\u001B[0m             value\u001B[38;5;241m=\u001B[39mresult\u001B[38;5;241m.\u001B[39mdocument\u001B[38;5;241m.\u001B[39mid,\n\u001B[1;32m     65\u001B[0m         )\n",
      "File \u001B[0;32m~/anaconda3/envs/env_development/lib/python3.10/site-packages/graphrag/vector_stores/lancedb.py:118\u001B[0m, in \u001B[0;36mLanceDBVectorStore.similarity_search_by_text\u001B[0;34m(self, text, text_embedder, k, **kwargs)\u001B[0m\n\u001B[1;32m    114\u001B[0m \u001B[38;5;28;01mdef\u001B[39;00m \u001B[38;5;21msimilarity_search_by_text\u001B[39m(\n\u001B[1;32m    115\u001B[0m     \u001B[38;5;28mself\u001B[39m, text: \u001B[38;5;28mstr\u001B[39m, text_embedder: TextEmbedder, k: \u001B[38;5;28mint\u001B[39m \u001B[38;5;241m=\u001B[39m \u001B[38;5;241m10\u001B[39m, \u001B[38;5;241m*\u001B[39m\u001B[38;5;241m*\u001B[39mkwargs: Any\n\u001B[1;32m    116\u001B[0m ) \u001B[38;5;241m-\u001B[39m\u001B[38;5;241m>\u001B[39m \u001B[38;5;28mlist\u001B[39m[VectorStoreSearchResult]:\n\u001B[1;32m    117\u001B[0m \u001B[38;5;250m    \u001B[39m\u001B[38;5;124;03m\"\"\"Perform a similarity search using a given input text.\"\"\"\u001B[39;00m\n\u001B[0;32m--> 118\u001B[0m     query_embedding \u001B[38;5;241m=\u001B[39m \u001B[43mtext_embedder\u001B[49m\u001B[43m(\u001B[49m\u001B[43mtext\u001B[49m\u001B[43m)\u001B[49m\n\u001B[1;32m    119\u001B[0m     \u001B[38;5;28;01mif\u001B[39;00m query_embedding:\n\u001B[1;32m    120\u001B[0m         \u001B[38;5;28;01mreturn\u001B[39;00m \u001B[38;5;28mself\u001B[39m\u001B[38;5;241m.\u001B[39msimilarity_search_by_vector(query_embedding, k)\n",
      "File \u001B[0;32m~/anaconda3/envs/env_development/lib/python3.10/site-packages/graphrag/query/context_builder/entity_extraction.py:57\u001B[0m, in \u001B[0;36mmap_query_to_entities.<locals>.<lambda>\u001B[0;34m(t)\u001B[0m\n\u001B[1;32m     51\u001B[0m matched_entities \u001B[38;5;241m=\u001B[39m []\n\u001B[1;32m     52\u001B[0m \u001B[38;5;28;01mif\u001B[39;00m query \u001B[38;5;241m!=\u001B[39m \u001B[38;5;124m\"\u001B[39m\u001B[38;5;124m\"\u001B[39m:\n\u001B[1;32m     53\u001B[0m     \u001B[38;5;66;03m# get entities with highest semantic similarity to query\u001B[39;00m\n\u001B[1;32m     54\u001B[0m     \u001B[38;5;66;03m# oversample to account for excluded entities\u001B[39;00m\n\u001B[1;32m     55\u001B[0m     search_results \u001B[38;5;241m=\u001B[39m text_embedding_vectorstore\u001B[38;5;241m.\u001B[39msimilarity_search_by_text(\n\u001B[1;32m     56\u001B[0m         text\u001B[38;5;241m=\u001B[39mquery,\n\u001B[0;32m---> 57\u001B[0m         text_embedder\u001B[38;5;241m=\u001B[39m\u001B[38;5;28;01mlambda\u001B[39;00m t: \u001B[43mtext_embedder\u001B[49m\u001B[38;5;241;43m.\u001B[39;49m\u001B[43membed\u001B[49m\u001B[43m(\u001B[49m\u001B[43mt\u001B[49m\u001B[43m)\u001B[49m,\n\u001B[1;32m     58\u001B[0m         k\u001B[38;5;241m=\u001B[39mk \u001B[38;5;241m*\u001B[39m oversample_scaler,\n\u001B[1;32m     59\u001B[0m     )\n\u001B[1;32m     60\u001B[0m     \u001B[38;5;28;01mfor\u001B[39;00m result \u001B[38;5;129;01min\u001B[39;00m search_results:\n\u001B[1;32m     61\u001B[0m         matched \u001B[38;5;241m=\u001B[39m get_entity_by_key(\n\u001B[1;32m     62\u001B[0m             entities\u001B[38;5;241m=\u001B[39mall_entities,\n\u001B[1;32m     63\u001B[0m             key\u001B[38;5;241m=\u001B[39membedding_vectorstore_key,\n\u001B[1;32m     64\u001B[0m             value\u001B[38;5;241m=\u001B[39mresult\u001B[38;5;241m.\u001B[39mdocument\u001B[38;5;241m.\u001B[39mid,\n\u001B[1;32m     65\u001B[0m         )\n",
      "File \u001B[0;32m~/anaconda3/envs/env_development/lib/python3.10/site-packages/graphrag/query/llm/oai/embedding.py:96\u001B[0m, in \u001B[0;36mOpenAIEmbedding.embed\u001B[0;34m(self, text, **kwargs)\u001B[0m\n\u001B[1;32m     90\u001B[0m         \u001B[38;5;28mself\u001B[39m\u001B[38;5;241m.\u001B[39m_reporter\u001B[38;5;241m.\u001B[39merror(\n\u001B[1;32m     91\u001B[0m             message\u001B[38;5;241m=\u001B[39m\u001B[38;5;124m\"\u001B[39m\u001B[38;5;124mError embedding chunk\u001B[39m\u001B[38;5;124m\"\u001B[39m,\n\u001B[1;32m     92\u001B[0m             details\u001B[38;5;241m=\u001B[39m{\u001B[38;5;28mself\u001B[39m\u001B[38;5;241m.\u001B[39m\u001B[38;5;18m__class__\u001B[39m\u001B[38;5;241m.\u001B[39m\u001B[38;5;18m__name__\u001B[39m: \u001B[38;5;28mstr\u001B[39m(e)},\n\u001B[1;32m     93\u001B[0m         )\n\u001B[1;32m     95\u001B[0m         \u001B[38;5;28;01mcontinue\u001B[39;00m\n\u001B[0;32m---> 96\u001B[0m chunk_embeddings \u001B[38;5;241m=\u001B[39m \u001B[43mnp\u001B[49m\u001B[38;5;241;43m.\u001B[39;49m\u001B[43maverage\u001B[49m\u001B[43m(\u001B[49m\u001B[43mchunk_embeddings\u001B[49m\u001B[43m,\u001B[49m\u001B[43m \u001B[49m\u001B[43maxis\u001B[49m\u001B[38;5;241;43m=\u001B[39;49m\u001B[38;5;241;43m0\u001B[39;49m\u001B[43m,\u001B[49m\u001B[43m \u001B[49m\u001B[43mweights\u001B[49m\u001B[38;5;241;43m=\u001B[39;49m\u001B[43mchunk_lens\u001B[49m\u001B[43m)\u001B[49m\n\u001B[1;32m     97\u001B[0m chunk_embeddings \u001B[38;5;241m=\u001B[39m chunk_embeddings \u001B[38;5;241m/\u001B[39m np\u001B[38;5;241m.\u001B[39mlinalg\u001B[38;5;241m.\u001B[39mnorm(chunk_embeddings)\n\u001B[1;32m     98\u001B[0m \u001B[38;5;28;01mreturn\u001B[39;00m chunk_embeddings\u001B[38;5;241m.\u001B[39mtolist()\n",
      "File \u001B[0;32m~/anaconda3/envs/env_development/lib/python3.10/site-packages/numpy/lib/function_base.py:550\u001B[0m, in \u001B[0;36maverage\u001B[0;34m(a, axis, weights, returned, keepdims)\u001B[0m\n\u001B[1;32m    548\u001B[0m     scl \u001B[38;5;241m=\u001B[39m wgt\u001B[38;5;241m.\u001B[39msum(axis\u001B[38;5;241m=\u001B[39maxis, dtype\u001B[38;5;241m=\u001B[39mresult_dtype, \u001B[38;5;241m*\u001B[39m\u001B[38;5;241m*\u001B[39mkeepdims_kw)\n\u001B[1;32m    549\u001B[0m     \u001B[38;5;28;01mif\u001B[39;00m np\u001B[38;5;241m.\u001B[39many(scl \u001B[38;5;241m==\u001B[39m \u001B[38;5;241m0.0\u001B[39m):\n\u001B[0;32m--> 550\u001B[0m         \u001B[38;5;28;01mraise\u001B[39;00m \u001B[38;5;167;01mZeroDivisionError\u001B[39;00m(\n\u001B[1;32m    551\u001B[0m             \u001B[38;5;124m\"\u001B[39m\u001B[38;5;124mWeights sum to zero, can\u001B[39m\u001B[38;5;124m'\u001B[39m\u001B[38;5;124mt be normalized\u001B[39m\u001B[38;5;124m\"\u001B[39m)\n\u001B[1;32m    553\u001B[0m     avg \u001B[38;5;241m=\u001B[39m avg_as_array \u001B[38;5;241m=\u001B[39m np\u001B[38;5;241m.\u001B[39mmultiply(a, wgt,\n\u001B[1;32m    554\u001B[0m                       dtype\u001B[38;5;241m=\u001B[39mresult_dtype)\u001B[38;5;241m.\u001B[39msum(axis, \u001B[38;5;241m*\u001B[39m\u001B[38;5;241m*\u001B[39mkeepdims_kw) \u001B[38;5;241m/\u001B[39m scl\n\u001B[1;32m    556\u001B[0m \u001B[38;5;28;01mif\u001B[39;00m returned:\n",
      "\u001B[0;31mZeroDivisionError\u001B[0m: Weights sum to zero, can't be normalized"
     ]
    }
   ],
   "execution_count": 18
  },
  {
   "cell_type": "markdown",
   "metadata": {},
   "source": [
    "#### Inspecting the context data used to generate the response"
   ]
  },
  {
   "cell_type": "code",
   "execution_count": null,
   "metadata": {},
   "outputs": [],
   "source": [
    "result.context_data[\"entities\"].head()"
   ]
  },
  {
   "cell_type": "code",
   "execution_count": null,
   "metadata": {},
   "outputs": [],
   "source": [
    "result.context_data[\"relationships\"].head()"
   ]
  },
  {
   "cell_type": "code",
   "execution_count": null,
   "metadata": {},
   "outputs": [],
   "source": [
    "result.context_data[\"reports\"].head()"
   ]
  },
  {
   "cell_type": "code",
   "execution_count": null,
   "metadata": {},
   "outputs": [],
   "source": [
    "result.context_data[\"sources\"].head()"
   ]
  },
  {
   "cell_type": "code",
   "execution_count": null,
   "metadata": {},
   "outputs": [],
   "source": [
    "if \"claims\" in result.context_data:\n",
    "    print(result.context_data[\"claims\"].head())"
   ]
  },
  {
   "cell_type": "markdown",
   "metadata": {},
   "source": [
    "### Question Generation"
   ]
  },
  {
   "cell_type": "markdown",
   "metadata": {},
   "source": [
    "This function takes a list of user queries and generates the next candidate questions."
   ]
  },
  {
   "cell_type": "code",
   "execution_count": null,
   "metadata": {},
   "outputs": [],
   "source": [
    "question_generator = LocalQuestionGen(\n",
    "    llm=llm,\n",
    "    context_builder=context_builder,\n",
    "    token_encoder=token_encoder,\n",
    "    llm_params=llm_params,\n",
    "    context_builder_params=local_context_params,\n",
    ")"
   ]
  },
  {
   "cell_type": "code",
   "execution_count": null,
   "metadata": {},
   "outputs": [],
   "source": [
    "question_history = [\n",
    "    \"Tell me about Agent Mercer\",\n",
    "    \"What happens in Dulce military base?\",\n",
    "]\n",
    "candidate_questions = await question_generator.agenerate(\n",
    "    question_history=question_history, context_data=None, question_count=5\n",
    ")\n",
    "print(candidate_questions.response)"
   ]
  }
 ],
 "metadata": {
  "kernelspec": {
   "display_name": "env_development",
   "language": "python",
   "name": "env_development"
  },
  "language_info": {
   "codemirror_mode": {
    "name": "ipython",
    "version": 3
   },
   "file_extension": ".py",
   "mimetype": "text/x-python",
   "name": "python",
   "nbconvert_exporter": "python",
   "pygments_lexer": "ipython3",
   "version": "3.10.12"
  }
 },
 "nbformat": 4,
 "nbformat_minor": 2
}
